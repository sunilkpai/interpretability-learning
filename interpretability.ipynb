{
 "cells": [
  {
   "cell_type": "code",
   "execution_count": 35,
   "id": "7d91d1d0",
   "metadata": {},
   "outputs": [
    {
     "name": "stdout",
     "output_type": "stream",
     "text": [
      "The autoreload extension is already loaded. To reload it, use:\n",
      "  %reload_ext autoreload\n"
     ]
    }
   ],
   "source": [
    "%load_ext autoreload\n",
    "%autoreload 2"
   ]
  },
  {
   "cell_type": "code",
   "execution_count": 36,
   "id": "8046127f",
   "metadata": {},
   "outputs": [
    {
     "name": "stderr",
     "output_type": "stream",
     "text": [
      "WARNING:root:You are not using LayerNorm, so the writing weights can't be centered! Skipping\n"
     ]
    },
    {
     "name": "stdout",
     "output_type": "stream",
     "text": [
      "Loaded pretrained model deepseek-ai/DeepSeek-R1-Distill-Qwen-1.5B into HookedTransformer\n",
      "Loaded model: deepseek-ai/DeepSeek-R1-Distill-Qwen-1.5B\n",
      "Model has 28 layers\n",
      "Model has 12 attention heads per layer\n",
      "Model has 1536 dimensions\n",
      "Model uses normalization: RMSPre\n"
     ]
    }
   ],
   "source": [
    "from transformer_lens_activations import load_model\n",
    "\n",
    "model = load_model(\n",
    "    \"deepseek-ai/DeepSeek-R1-Distill-Qwen-1.5B\"\n",
    ")"
   ]
  },
  {
   "cell_type": "code",
   "execution_count": null,
   "id": "6668dfa2",
   "metadata": {},
   "outputs": [
    {
     "data": {
      "application/vnd.jupyter.widget-view+json": {
       "model_id": "03c5a12266884455b0c83e52a5a109ba",
       "version_major": 2,
       "version_minor": 0
      },
      "text/plain": [
       "  0%|          | 0/500 [00:00<?, ?it/s]"
      ]
     },
     "metadata": {},
     "output_type": "display_data"
    }
   ],
   "source": [
    "from transformer_lens_activations import create_probe_activation_hook\n",
    "\n",
    "hook_fn = create_probe_activation_hook(\"geometry.pt\", factor=70)\n",
    "for layer in range(model.cfg.n_layers):\n",
    "    model.add_hook(f\"blocks.{layer}.hook_resid_post\", hook_fn)\n",
    "\n",
    "# Generate (hooks automatically apply)\n",
    "generated_tokens = model.generate(\n",
    "    model.to_tokens(\"What is sqrt(x^2 + y^2), where x = 3 and y = 4?\"),\n",
    "    max_new_tokens=500,\n",
    "    temperature=0.8\n",
    ")\n",
    "\n",
    "# Convert to text\n",
    "generated_text = model.to_string(generated_tokens)\n",
    "\n",
    "# Remove hooks when done\n",
    "model.reset_hooks()"
   ]
  },
  {
   "cell_type": "code",
   "execution_count": 114,
   "id": "8c51ec38",
   "metadata": {},
   "outputs": [
    {
     "name": "stdout",
     "output_type": "stream",
     "text": [
      "What is sqrt(x^2 + y^2), where x = 3 and y = 4? Let me see, I have to figure out what is sqrt(x^2 + y^2), where x = 3 and y = 4. Hmm, okay, so x is 3 and y is 4. So, x squared would be 9, and y squared would be 16. So, if we add x squared and y squared together, 9 + 16 is 25. So, sqrt of 25 is 5. That's pretty straightforward. So, in that case, sqrt(x^2 + y^2) is 5 because sqrt(25) is 5. So, that's it, that's a simple number. So, I don't have to do any further calculations or anything like that. So, I think that's it. So, that's the answer, which is 5. So, that's just the straightforward computation. So, 5 is 5. There's no further breakdown here because 25 is a perfect square, right? So, sqrt(25) is 5, so we don't have to do anything else. So, we're done. So, that's the answer, 5. So, that's the value of sqrt(x^2 + y^2) when x is 3 and y is 4. So, that's 5. So, we have to write 5, but we don't have to write anything else. So, that's it. So, I think that's all. So, 5 is 5. So, we're done. So, that's all. So, no more stuff here. So, that's all. So, no more, no more. So, we're done. So, that's the answer. So, that's the value of sqrt(x^2 + y^2), where x is 3 and y is 4. So, that's 5. So, that's it. So, in that case, we have to do nothing else. So, that's the whole thing. So, that's fine. So, that's it. So, that's all. So, 5 is 5. So, that's it. So, that's the answer. So, that's the value of sqrt(x^2 + y^2) when x is 3 and y is 4. So,\n"
     ]
    }
   ],
   "source": [
    "print(generated_text[0])"
   ]
  },
  {
   "cell_type": "code",
   "execution_count": null,
   "id": "385b0237",
   "metadata": {},
   "outputs": [],
   "source": []
  }
 ],
 "metadata": {
  "kernelspec": {
   "display_name": ".venv",
   "language": "python",
   "name": "python3"
  },
  "language_info": {
   "codemirror_mode": {
    "name": "ipython",
    "version": 3
   },
   "file_extension": ".py",
   "mimetype": "text/x-python",
   "name": "python",
   "nbconvert_exporter": "python",
   "pygments_lexer": "ipython3",
   "version": "3.12.3"
  }
 },
 "nbformat": 4,
 "nbformat_minor": 5
}
