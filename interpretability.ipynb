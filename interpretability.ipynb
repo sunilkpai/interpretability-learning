{
 "cells": [
  {
   "cell_type": "code",
   "execution_count": 35,
   "id": "7d91d1d0",
   "metadata": {},
   "outputs": [
    {
     "name": "stdout",
     "output_type": "stream",
     "text": [
      "The autoreload extension is already loaded. To reload it, use:\n",
      "  %reload_ext autoreload\n"
     ]
    }
   ],
   "source": [
    "%load_ext autoreload\n",
    "%autoreload 2"
   ]
  },
  {
   "cell_type": "code",
   "execution_count": 36,
   "id": "8046127f",
   "metadata": {},
   "outputs": [
    {
     "name": "stderr",
     "output_type": "stream",
     "text": [
      "WARNING:root:You are not using LayerNorm, so the writing weights can't be centered! Skipping\n"
     ]
    },
    {
     "name": "stdout",
     "output_type": "stream",
     "text": [
      "Loaded pretrained model deepseek-ai/DeepSeek-R1-Distill-Qwen-1.5B into HookedTransformer\n",
      "Loaded model: deepseek-ai/DeepSeek-R1-Distill-Qwen-1.5B\n",
      "Model has 28 layers\n",
      "Model has 12 attention heads per layer\n",
      "Model has 1536 dimensions\n",
      "Model uses normalization: RMSPre\n"
     ]
    }
   ],
   "source": [
    "from transformer_lens_activations import load_model\n",
    "\n",
    "model = load_model(\n",
    "    \"deepseek-ai/DeepSeek-R1-Distill-Qwen-1.5B\"\n",
    ")"
   ]
  },
  {
   "cell_type": "code",
   "execution_count": 141,
   "id": "6668dfa2",
   "metadata": {},
   "outputs": [
    {
     "data": {
      "application/vnd.jupyter.widget-view+json": {
       "model_id": "d2e1f8ca76e74c54beb1848081c34e0f",
       "version_major": 2,
       "version_minor": 0
      },
      "text/plain": [
       "  0%|          | 0/500 [00:00<?, ?it/s]"
      ]
     },
     "metadata": {},
     "output_type": "display_data"
    }
   ],
   "source": [
    "from transformer_lens_activations import create_probe_activation_hook\n",
    "\n",
    "hook_fn = create_probe_activation_hook(\"difficulty.pt\", factor=50)\n",
    "for layer in range(model.cfg.n_layers):\n",
    "    model.add_hook(f\"blocks.{layer}.hook_resid_post\", hook_fn)\n",
    "\n",
    "# Generate (hooks automatically apply)\n",
    "generated_tokens = model.generate(\n",
    "    model.to_tokens(\"What is cos(60)?\"),\n",
    "    max_new_tokens=500,\n",
    "    temperature=0.6\n",
    ")\n",
    "\n",
    "# Convert to text\n",
    "generated_text = model.to_string(generated_tokens)\n",
    "\n",
    "# Remove hooks when done\n",
    "model.reset_hooks()"
   ]
  },
  {
   "cell_type": "code",
   "execution_count": 142,
   "id": "8c51ec38",
   "metadata": {},
   "outputs": [
    {
     "name": "stdout",
     "output_type": "stream",
     "text": [
      "What is cos(60)? Explain your reasoning.\n",
      "To find cos(60°), we can use the properties of the cosine function. Since 60° is not a standard angle, we can relate it to known angles using co-function identities or use the cosine of supplementary angles.\n",
      "\n",
      "First, we know that cos(60°) = sin(30°), because cosine of an angle is equal to sine of its complement (90° - angle). Alternatively, we can use the fact that 60° is supplementary to 120°, so cos(60°) = -cos(120°). Either approach is valid.\n",
      "\n",
      "Let's proceed with the first method: cos(60°) = sin(30°). We know the sine of 30° from the unit circle. Specifically, sin(30°) = 1/2. Therefore, cos(60°) = 1/2.\n",
      "\n",
      "Alternatively, if we use the supplementary angles approach, we can relate cos(60°) to -cos(120°). Let's compute cos(120°). 120° is in the second quadrant, where cosine is negative. The reference angle for 120° is 180° - 120° = 60°. So, cos(120°) = -cos(60°). Therefore, cos(60°) = -cos(120°) = -(-cos(60°)) = cos(60°). This seems to create an identity, but perhaps it's not directly helpful for computing cos(60°).\n",
      "\n",
      "Wait, perhaps a better approach is to use the cosine of supplementary angles. Remember that cos(θ) = -cos(180° - θ). So, cos(60°) = -cos(120°). If we can find cos(120°), then we can find cos(60°). Let's compute cos(120°). 120° is in the second quadrant, as we thought. The reference angle is 60°, which is 180° - 120°. So, cos(120°) = -cos(60°). Then, cos(60°) = -cos(120°).\n"
     ]
    }
   ],
   "source": [
    "print(generated_text[0])"
   ]
  },
  {
   "cell_type": "code",
   "execution_count": null,
   "id": "385b0237",
   "metadata": {},
   "outputs": [],
   "source": []
  }
 ],
 "metadata": {
  "kernelspec": {
   "display_name": ".venv",
   "language": "python",
   "name": "python3"
  },
  "language_info": {
   "codemirror_mode": {
    "name": "ipython",
    "version": 3
   },
   "file_extension": ".py",
   "mimetype": "text/x-python",
   "name": "python",
   "nbconvert_exporter": "python",
   "pygments_lexer": "ipython3",
   "version": "3.12.3"
  }
 },
 "nbformat": 4,
 "nbformat_minor": 5
}
