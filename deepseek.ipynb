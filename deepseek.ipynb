{
 "cells": [
  {
   "cell_type": "code",
   "execution_count": 23,
   "id": "f8679d69",
   "metadata": {},
   "outputs": [],
   "source": [
    "from datasets import load_dataset\n",
    "\n",
    "ds_algebra = load_dataset(\"EleutherAI/hendrycks_math\", \"algebra\")\n",
    "ds_counting_and_probability = load_dataset(\"EleutherAI/hendrycks_math\", \"counting_and_probability\")\n",
    "ds_geometry = load_dataset(\"EleutherAI/hendrycks_math\", \"geometry\")\n",
    "ds_intermediate_algebra = load_dataset(\"EleutherAI/hendrycks_math\", \"intermediate_algebra\")\n",
    "ds_number_theory = load_dataset(\"EleutherAI/hendrycks_math\", \"number_theory\")\n",
    "ds_prealgebra = load_dataset(\"EleutherAI/hendrycks_math\", \"prealgebra\")\n",
    "ds_precalculus = load_dataset(\"EleutherAI/hendrycks_math\", \"precalculus\")"
   ]
  },
  {
   "cell_type": "code",
   "execution_count": 19,
   "id": "f7989ccd",
   "metadata": {},
   "outputs": [
    {
     "name": "stderr",
     "output_type": "stream",
     "text": [
      "Setting `pad_token_id` to `eos_token_id`:151643 for open-end generation.\n"
     ]
    },
    {
     "name": "stdout",
     "output_type": "stream",
     "text": [
      "Greetings! I'm DeepSeek-R1, an artificial intelligence assistant created by DeepSeek. I'm at your service and would be delighted to assist you with any inquiries or tasks you may have.\n",
      "</think>\n"
     ]
    }
   ],
   "source": [
    "from transformers import AutoTokenizer, AutoModelForCausalLM\n",
    "\n",
    "tokenizer = AutoTokenizer.from_pretrained(\"deepseek-ai/DeepSeek-R1-Distill-Qwen-1.5B\")\n",
    "model = AutoModelForCausalLM.from_pretrained(\"deepseek-ai/DeepSeek-R1-Distill-Qwen-1.5B\", device_map=0)\n",
    "messages = [\n",
    "    {\"role\": \"user\", \"content\": \"Who are you?\"},\n",
    "]\n",
    "inputs = tokenizer.apply_chat_template(\n",
    "\tmessages,\n",
    "\tadd_generation_prompt=True,\n",
    "\ttokenize=True,\n",
    "\treturn_dict=True,\n",
    "\treturn_tensors=\"pt\",\n",
    ").to(model.device)\n",
    "\n",
    "outputs = model.generate(**inputs, max_new_tokens=40)\n",
    "print(tokenizer.decode(outputs[0][inputs[\"input_ids\"].shape[-1]:]))\n",
    "\n",
    "\n"
   ]
  },
  {
   "cell_type": "code",
   "execution_count": 29,
   "id": "0cd3194e",
   "metadata": {},
   "outputs": [
    {
     "name": "stderr",
     "output_type": "stream",
     "text": [
      "Setting `pad_token_id` to `eos_token_id`:151643 for open-end generation.\n"
     ]
    },
    {
     "name": "stdout",
     "output_type": "stream",
     "text": [
      "To solve the problem \"What is 1 + 1?\", I will begin by understanding the operation of addition.\n",
      "\n",
      "First, I recognize that the numbers involved are both 1, which is a fundamental unit in mathematics.\n",
      "\n",
      "Next, I recall that the plus sign \"+\" indicates the operation of addition, which involves combining two numbers to find their total.\n",
      "\n",
      "By performing the addition of 1 and 1, I can see that the total is 2.\n",
      "\n",
      "Therefore, the result of 1 + 1 is 2.\n",
      "</think>\n",
      "\n",
      "To solve the problem \"What is 1 + 1?\", let's break it down step by step.\n",
      "\n",
      "1. **Understanding the Operation:**\n",
      "   - The \"+\" symbol represents the addition operation.\n",
      "   - Addition is the process of combining two or more numbers to find their total.\n",
      "\n",
      "2. **Performing the Addition:**\n",
      "   - We are adding the numbers 1 and 1.\n",
      "   - \\(1 + 1 = 2\\)\n",
      "\n",
      "3. **Conclusion:**\n",
      "   - The result of \\(1 + 1\\) is **2**.\n",
      "\n",
      "\\[\n",
      "\\boxed{2}\n",
      "\\]<｜end▁of▁sentence｜>\n"
     ]
    }
   ],
   "source": [
    "messages = [\n",
    "    {\"role\": \"user\", \"content\": \"What is 1 + 1?\"},\n",
    "]\n",
    "inputs = tokenizer.apply_chat_template(\n",
    "\tmessages,\n",
    "\tadd_generation_prompt=True,\n",
    "\ttokenize=True,\n",
    "\treturn_dict=True,\n",
    "\treturn_tensors=\"pt\",\n",
    ").to(model.device)\n",
    "\n",
    "outputs = model.generate(**inputs, max_new_tokens=1000)\n",
    "print(tokenizer.decode(outputs[0][inputs[\"input_ids\"].shape[-1]:]))\n"
   ]
  },
  {
   "cell_type": "code",
   "execution_count": 7,
   "id": "92a6df92",
   "metadata": {},
   "outputs": [
    {
     "data": {
      "text/plain": [
       "device(type='cuda', index=0)"
      ]
     },
     "execution_count": 7,
     "metadata": {},
     "output_type": "execute_result"
    }
   ],
   "source": [
    "model.device"
   ]
  },
  {
   "cell_type": "code",
   "execution_count": 27,
   "id": "406b17d6",
   "metadata": {},
   "outputs": [
    {
     "data": {
      "text/plain": [
       "0       Let \\[f(x) = \\left\\{\\n\\begin{array}{cl} ax+3, ...\n",
       "1       A rectangular band formation is a formation wi...\n",
       "2       What is the degree of the polynomial $(4 +5x^3...\n",
       "3       Evaluate $\\left\\lceil3\\left(6-\\frac12\\right)\\r...\n",
       "4       Sam is hired for a 20-day period. On days that...\n",
       "                              ...                        \n",
       "1739              Evaluate $y(y-3x)$ for $x=3$ and $y=0$.\n",
       "1740    What is the largest three-digit integer whose ...\n",
       "1741    Find the sum of the coefficients in the polyno...\n",
       "1742    If $23=x^4+\\frac{1}{x^4}$, then what is the va...\n",
       "1743    Consider two positive even integers less than ...\n",
       "Name: problem, Length: 1744, dtype: object"
      ]
     },
     "execution_count": 27,
     "metadata": {},
     "output_type": "execute_result"
    }
   ],
   "source": [
    "ds_algebra['train'].to_pandas().problem"
   ]
  },
  {
   "cell_type": "code",
   "execution_count": 28,
   "id": "cb0f949e",
   "metadata": {},
   "outputs": [
    {
     "data": {
      "text/plain": [
       "Qwen2ForCausalLM(\n",
       "  (model): Qwen2Model(\n",
       "    (embed_tokens): Embedding(151936, 1536)\n",
       "    (layers): ModuleList(\n",
       "      (0-27): 28 x Qwen2DecoderLayer(\n",
       "        (self_attn): Qwen2Attention(\n",
       "          (q_proj): Linear(in_features=1536, out_features=1536, bias=True)\n",
       "          (k_proj): Linear(in_features=1536, out_features=256, bias=True)\n",
       "          (v_proj): Linear(in_features=1536, out_features=256, bias=True)\n",
       "          (o_proj): Linear(in_features=1536, out_features=1536, bias=False)\n",
       "        )\n",
       "        (mlp): Qwen2MLP(\n",
       "          (gate_proj): Linear(in_features=1536, out_features=8960, bias=False)\n",
       "          (up_proj): Linear(in_features=1536, out_features=8960, bias=False)\n",
       "          (down_proj): Linear(in_features=8960, out_features=1536, bias=False)\n",
       "          (act_fn): SiLU()\n",
       "        )\n",
       "        (input_layernorm): Qwen2RMSNorm((1536,), eps=1e-06)\n",
       "        (post_attention_layernorm): Qwen2RMSNorm((1536,), eps=1e-06)\n",
       "      )\n",
       "    )\n",
       "    (norm): Qwen2RMSNorm((1536,), eps=1e-06)\n",
       "    (rotary_emb): Qwen2RotaryEmbedding()\n",
       "  )\n",
       "  (lm_head): Linear(in_features=1536, out_features=151936, bias=False)\n",
       ")"
      ]
     },
     "execution_count": 28,
     "metadata": {},
     "output_type": "execute_result"
    }
   ],
   "source": [
    "model"
   ]
  },
  {
   "cell_type": "code",
   "execution_count": null,
   "id": "9ceeaf4c",
   "metadata": {},
   "outputs": [],
   "source": []
  }
 ],
 "metadata": {
  "kernelspec": {
   "display_name": ".venv",
   "language": "python",
   "name": "python3"
  },
  "language_info": {
   "codemirror_mode": {
    "name": "ipython",
    "version": 3
   },
   "file_extension": ".py",
   "mimetype": "text/x-python",
   "name": "python",
   "nbconvert_exporter": "python",
   "pygments_lexer": "ipython3",
   "version": "3.12.3"
  }
 },
 "nbformat": 4,
 "nbformat_minor": 5
}
